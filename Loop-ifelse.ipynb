{
 "cells": [
  {
   "cell_type": "code",
   "execution_count": 39,
   "metadata": {},
   "outputs": [
    {
     "name": "stdout",
     "output_type": "stream",
     "text": [
      "Siri:  Welcome to siri.\n",
      "Siri: could I know your name\n",
      "You:d\n",
      "Siri:  nice to meet you d\n",
      "Siri:  which country do u leave in?  \n",
      "You:d\n",
      "Siri:  it is a nice country. d\n",
      "Siri:  may I know your age  \n",
      "You:1\n",
      "Siri:  you can talk \n",
      "You:no\n"
     ]
    }
   ],
   "source": [
    "def youPrint(*argv): \n",
    "    str = \"Siri: \"\n",
    "    for arg in argv: \n",
    "        str += \" \"+arg;\n",
    "    print(str)\n",
    "    \n",
    "def myinput(msg):\n",
    "    return input(\"Siri: \" +msg+ \"\\nYou: \")\n",
    "\n",
    "youPrint(\"Welcome to siri.\")\n",
    "username=myinput(\"could I know your name\");\n",
    "youPrint(\"nice to meet you\",username)\n",
    "\n",
    "usercountry=myinput(\" which country do u leave in?  \")\n",
    "youPrint( \"it is a nice country.\",usercountry)\n",
    "\n",
    "\n",
    "userAge = myinput(\" may I know your age  \")\n",
    "if int(userAge)<3:\n",
    "    userclass=myinput(\" you can talk \")\n",
    "    \n",
    "elif int(userAge)<20:\n",
    "    userclass=myinput(\" which  do you study \")\n",
    "    youPrint(\"Siri: focus on you study.\")\n",
    "    \n",
    "elif int(userAge)<30:\n",
    "    userCollage=myinput(\"which College do you\")\n",
    "    youPrint(\"This College is too big\")\n",
    "    \n",
    "else:\n",
    "    useroffice=myinput(\" which office do you work \")\n",
    "    youPrint(\"its a good office \")\n",
    "    \n",
    "    \n",
    "    "
   ]
  },
  {
   "cell_type": "code",
   "execution_count": null,
   "metadata": {},
   "outputs": [],
   "source": []
  },
  {
   "cell_type": "code",
   "execution_count": null,
   "metadata": {},
   "outputs": [],
   "source": []
  },
  {
   "cell_type": "code",
   "execution_count": null,
   "metadata": {},
   "outputs": [],
   "source": []
  },
  {
   "cell_type": "code",
   "execution_count": null,
   "metadata": {},
   "outputs": [],
   "source": []
  },
  {
   "cell_type": "code",
   "execution_count": null,
   "metadata": {},
   "outputs": [],
   "source": []
  },
  {
   "cell_type": "code",
   "execution_count": null,
   "metadata": {},
   "outputs": [],
   "source": []
  },
  {
   "cell_type": "code",
   "execution_count": null,
   "metadata": {},
   "outputs": [],
   "source": []
  },
  {
   "cell_type": "code",
   "execution_count": null,
   "metadata": {},
   "outputs": [],
   "source": []
  },
  {
   "cell_type": "code",
   "execution_count": null,
   "metadata": {},
   "outputs": [],
   "source": []
  },
  {
   "cell_type": "code",
   "execution_count": null,
   "metadata": {},
   "outputs": [],
   "source": []
  },
  {
   "cell_type": "code",
   "execution_count": null,
   "metadata": {},
   "outputs": [],
   "source": []
  },
  {
   "cell_type": "code",
   "execution_count": null,
   "metadata": {},
   "outputs": [],
   "source": []
  },
  {
   "cell_type": "code",
   "execution_count": null,
   "metadata": {},
   "outputs": [],
   "source": []
  }
 ],
 "metadata": {
  "kernelspec": {
   "display_name": "Python 3",
   "language": "python",
   "name": "python3"
  },
  "language_info": {
   "codemirror_mode": {
    "name": "ipython",
    "version": 3
   },
   "file_extension": ".py",
   "mimetype": "text/x-python",
   "name": "python",
   "nbconvert_exporter": "python",
   "pygments_lexer": "ipython3",
   "version": "3.7.4"
  }
 },
 "nbformat": 4,
 "nbformat_minor": 2
}
