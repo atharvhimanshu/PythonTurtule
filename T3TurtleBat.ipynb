{
 "cells": [
  {
   "cell_type": "code",
   "execution_count": 6,
   "metadata": {},
   "outputs": [],
   "source": [
    "from turtle import Turtle\n",
    "t=Turtle()\n",
    "mycolor = [\"red\", \"green\", \"yellow\", \"blue\", \"orange\"]\n",
    "\n",
    "\n",
    "def printme(i):\n",
    "    t.begin_fill()\n",
    "    t.color(mycolor[i])\n",
    "#     if i==1:\n",
    "#        mycolor=[\"red\",\"green\"]\n",
    "#     elif i==2:\n",
    "#         t.color(\"blue\")\n",
    "#     elif i==3:\n",
    "#         t.color(\"green\")\n",
    "#     else:\n",
    "#         t.color(\"yellow\")\n",
    "    t.forward(90)\n",
    "    t.right(90)\n",
    "    t.forward(20)\n",
    "    t.right(90)\n",
    "    t.forward(90)\n",
    "    t.right(90)\n",
    "    t.forward(5)\n",
    "    t.left(90)\n",
    "    t.forward(40)\n",
    "    t.right(90)\n",
    "    t.forward(10)\n",
    "    t.right(90)\n",
    "    t.forward(40)\n",
    "    t.left(90)\n",
    "    t.forward(5)\n",
    "    t.end_fill()\n",
    "        \n",
    "    t.penup()\n",
    "    t.forward(50)\n",
    "    t.right(90)\n",
    "    t.forward(50)\n",
    "    t.pendown()\n",
    "    \n",
    "for x in range(5):\n",
    "    printme(x)"
   ]
  },
  {
   "cell_type": "code",
   "execution_count": null,
   "metadata": {},
   "outputs": [],
   "source": []
  },
  {
   "cell_type": "code",
   "execution_count": null,
   "metadata": {},
   "outputs": [],
   "source": []
  }
 ],
 "metadata": {
  "kernelspec": {
   "display_name": "Python 3",
   "language": "python",
   "name": "python3"
  },
  "language_info": {
   "codemirror_mode": {
    "name": "ipython",
    "version": 3
   },
   "file_extension": ".py",
   "mimetype": "text/x-python",
   "name": "python",
   "nbconvert_exporter": "python",
   "pygments_lexer": "ipython3",
   "version": "3.7.4"
  }
 },
 "nbformat": 4,
 "nbformat_minor": 2
}
