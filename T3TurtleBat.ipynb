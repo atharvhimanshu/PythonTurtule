{
 "cells": [
  {
   "cell_type": "code",
   "execution_count": 1,
   "metadata": {},
   "outputs": [],
   "source": [
    "from turtle import Turtle\n",
    "t=Turtle()\n",
    "def printme():\n",
    "    t.forward(90)\n",
    "    t.right(90)\n",
    "    t.forward(20)\n",
    "    t.right(90)\n",
    "    t.forward(90)\n",
    "    t.right(90)\n",
    "    t.forward(5)\n",
    "    t.left(90)\n",
    "    t.forward(40)\n",
    "    t.right(90)\n",
    "    t.forward(10)\n",
    "    t.right(90)\n",
    "    t.forward(40)\n",
    "    t.left(90)\n",
    "    t.forward(5)\n",
    "    t.penup()\n",
    "    t.forward(50)\n",
    "    t.right(90)\n",
    "    t.forward(50)\n",
    "    t.pendown()\n",
    "for x in range(5):\n",
    "    printme()"
   ]
  },
  {
   "cell_type": "code",
   "execution_count": null,
   "metadata": {},
   "outputs": [],
   "source": []
  },
  {
   "cell_type": "code",
   "execution_count": null,
   "metadata": {},
   "outputs": [],
   "source": []
  }
 ],
 "metadata": {
  "kernelspec": {
   "display_name": "Python 3",
   "language": "python",
   "name": "python3"
  },
  "language_info": {
   "codemirror_mode": {
    "name": "ipython",
    "version": 3
   },
   "file_extension": ".py",
   "mimetype": "text/x-python",
   "name": "python",
   "nbconvert_exporter": "python",
   "pygments_lexer": "ipython3",
   "version": "3.7.4"
  }
 },
 "nbformat": 4,
 "nbformat_minor": 2
}
